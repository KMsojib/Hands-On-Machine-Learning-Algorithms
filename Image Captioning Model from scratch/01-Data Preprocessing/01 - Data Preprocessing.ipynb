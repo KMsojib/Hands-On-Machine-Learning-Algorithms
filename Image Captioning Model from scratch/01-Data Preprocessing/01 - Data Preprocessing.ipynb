{
 "cells": [
  {
   "cell_type": "markdown",
   "metadata": {},
   "source": [
    "# Step - 1 :- Data Cleaning"
   ]
  },
  {
   "cell_type": "code",
   "execution_count": 2,
   "metadata": {},
   "outputs": [],
   "source": [
    "import pandas as pd\n",
    "from sklearn.impute import SimpleImputer"
   ]
  },
  {
   "cell_type": "code",
   "execution_count": 4,
   "metadata": {},
   "outputs": [
    {
     "name": "stdout",
     "output_type": "stream",
     "text": [
      "/* ----------------------------------- Data Cleaning -----------------------------------*/\n",
      "   name   age  purchase_amount date_of_purchase\n",
      "0  John  28.0          100.500       2023-12-01\n",
      "1  Jane  34.0           84.075       2023-12-02\n",
      "2  Jack  28.0           85.300       2023-12-01\n",
      "4  None  22.0           50.000       2023-12-03\n"
     ]
    }
   ],
   "source": [
    "# Creating a manual dataset\n",
    "data = pd.DataFrame({\n",
    "    'name': ['John', 'Jane', 'Jack', 'John', None],\n",
    "    'age': [28, 34, None, 28, 22],\n",
    "    'purchase_amount': [100.5, None, 85.3, 100.5, 50.0],\n",
    "    'date_of_purchase': ['2023/12/01', '2023/12/02', '2023/12/01', '2023/12/01', '2023/12/03']\n",
    "\t})\n",
    "\n",
    "# Handling missing values using mean imputation for 'age' and 'purchase_amount'\n",
    "imputer = SimpleImputer(strategy='mean')\n",
    "data[['age', 'purchase_amount']] = imputer.fit_transform(data[['age', 'purchase_amount']])\n",
    "\n",
    "# Removing duplicate rows\n",
    "data = data.drop_duplicates()\n",
    "\n",
    "# Correcting inconsistent date formats\n",
    "data['date_of_purchase'] = pd.to_datetime(data['date_of_purchase'], errors='coerce')\n",
    "print(\"/* ----------------------------------- Data Cleaning -----------------------------------*/\")\n",
    "print(data)"
   ]
  },
  {
   "cell_type": "markdown",
   "metadata": {},
   "source": [
    "# Step 2: Data integration"
   ]
  },
  {
   "cell_type": "code",
   "execution_count": 6,
   "metadata": {},
   "outputs": [
    {
     "name": "stdout",
     "output_type": "stream",
     "text": [
      "/* ----------------------------------- Merged Data -----------------------------------*/\n",
      "   customer_id   name_x  age_x  purchase_amount_x date_of_purchase_x   name_y  \\\n",
      "0            1    Alice   25.0              200.0         2023/12/01    Alice   \n",
      "1            2      Bob   30.0                NaN         2023/12/02      Bob   \n",
      "2            3  Charlie   35.0              150.0         2023/12/03  Charlie   \n",
      "3            4    David    NaN              300.0         2023/12/04    David   \n",
      "4            5      Eve   40.0              250.0         2023/12/05      Eve   \n",
      "\n",
      "   age_y  purchase_amount_y date_of_purchase_y  \n",
      "0   25.0              200.0         2023/12/01  \n",
      "1   30.0                NaN         2023/12/02  \n",
      "2   35.0              150.0         2023/12/03  \n",
      "3    NaN              300.0         2023/12/04  \n",
      "4   40.0              250.0         2023/12/05  \n"
     ]
    }
   ],
   "source": [
    "data1  = pd.DataFrame({\n",
    "    'customer_id': [1, 2, 3, 4, 5],\n",
    "    'name': ['Alice', 'Bob', 'Charlie', 'David', 'Eve'],\n",
    "    'age': [25, 30, 35, None, 40],\n",
    "    'purchase_amount': [200.0, None, 150.0, 300.0, 250.0],\n",
    "    'date_of_purchase': ['2023/12/01', '2023/12/02', '2023/12/03', '2023/12/04', '2023/12/05']\n",
    "})\n",
    "\n",
    "data2 = pd.DataFrame({\n",
    "    'customer_id': [1, 2, 3, 4, 5],\n",
    "    'name': ['Alice', 'Bob', 'Charlie', 'David', 'Eve'],\n",
    "    'age': [25, 30, 35, None, 40],\n",
    "    'purchase_amount': [200.0, None, 150.0, 300.0, 250.0],\n",
    "    'date_of_purchase': ['2023/12/01', '2023/12/02', '2023/12/03', '2023/12/04', '2023/12/05']\n",
    "})\n",
    "\n",
    "# Merging two datasets\n",
    "merged_data  = pd.merge(data1,data2,on ='customer_id', how='inner')\n",
    "print(\"/* ----------------------------------- Merged Data -----------------------------------*/\")\n",
    "print(merged_data)"
   ]
  },
  {
   "cell_type": "markdown",
   "metadata": {},
   "source": [
    "# Step 3: Data transformation\n"
   ]
  },
  {
   "cell_type": "code",
   "execution_count": 7,
   "metadata": {},
   "outputs": [
    {
     "name": "stdout",
     "output_type": "stream",
     "text": [
      "  category  numeric_column  scaled_numeric_column  category_A  category_B  \\\n",
      "0        A              10              -1.069045         1.0         0.0   \n",
      "1        B              15               0.267261         0.0         1.0   \n",
      "2        A              10              -1.069045         1.0         0.0   \n",
      "3        C              20               1.603567         0.0         0.0   \n",
      "4        B              15               0.267261         0.0         1.0   \n",
      "\n",
      "   category_C  \n",
      "0         0.0  \n",
      "1         0.0  \n",
      "2         0.0  \n",
      "3         1.0  \n",
      "4         0.0  \n"
     ]
    }
   ],
   "source": [
    "from sklearn.preprocessing import StandardScaler, OneHotEncoder\n",
    "\n",
    "# Creating a manual dataset\n",
    "data = pd.DataFrame({\n",
    "    'category': ['A', 'B', 'A', 'C', 'B'],\n",
    "    'numeric_column': [10, 15, 10, 20, 15]\n",
    "\t})\n",
    "\n",
    "# Scaling numeric data\n",
    "scaler = StandardScaler()\n",
    "data['scaled_numeric_column'] = scaler.fit_transform(data[['numeric_column']])\n",
    "\n",
    "# Encoding categorical variables using one-hot encoding\n",
    "encoder = OneHotEncoder(sparse_output=False)\n",
    "encoded_data = pd.DataFrame(encoder.fit_transform(data[['category']]),\n",
    "                            columns=encoder.get_feature_names_out(['category']))\n",
    "\n",
    "# Concatenating the encoded data with the original dataset\n",
    "data = pd.concat([data, encoded_data], axis=1)\n",
    "print(\"/* ----------------------------------- Encoded Data -----------------------------------*/\")\n",
    "print(data)"
   ]
  },
  {
   "cell_type": "code",
   "execution_count": null,
   "metadata": {},
   "outputs": [],
   "source": []
  }
 ],
 "metadata": {
  "kernelspec": {
   "display_name": "Python 3",
   "language": "python",
   "name": "python3"
  },
  "language_info": {
   "codemirror_mode": {
    "name": "ipython",
    "version": 3
   },
   "file_extension": ".py",
   "mimetype": "text/x-python",
   "name": "python",
   "nbconvert_exporter": "python",
   "pygments_lexer": "ipython3",
   "version": "3.12.4"
  }
 },
 "nbformat": 4,
 "nbformat_minor": 2
}
